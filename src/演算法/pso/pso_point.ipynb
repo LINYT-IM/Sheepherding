{
 "cells": [
  {
   "cell_type": "code",
   "execution_count": 1,
   "source": [
    "from gurobipy import *\r\n",
    "import math\r\n",
    "import numpy as np\r\n",
    "import matplotlib.pyplot as plt\r\n",
    "import random\r\n",
    "import copy"
   ],
   "outputs": [],
   "metadata": {}
  },
  {
   "cell_type": "code",
   "execution_count": 2,
   "source": [
    "# 兩點距離\r\n",
    "def dis(x1,x2):\r\n",
    "    return math.sqrt(pow(x1[0]-x2[0],2) + pow(x1[1]-x2[1],2))\r\n",
    "# 四捨五入用\r\n",
    "def simple(num):\r\n",
    "    return math.floor(num*100)/100"
   ],
   "outputs": [],
   "metadata": {}
  },
  {
   "cell_type": "code",
   "execution_count": 3,
   "source": [
    "# 模型graph生成\r\n",
    "def init(p, candi, goal):\r\n",
    "#     goal = [0,0]\r\n",
    "#     map_range = [32,32] #x軸、y軸範圍\r\n",
    "#     spacing = 15 #候選點的間距\r\n",
    "#     n1 = 5 #羊數量\r\n",
    "#     print(candi[0])\r\n",
    "#     print(p[0])\r\n",
    "    # p = {\r\n",
    "    # 0:[5,32],\r\n",
    "    # 1: [11,50],\r\n",
    "    # 2: [31,9],\r\n",
    "    # 3: [5, 2],\r\n",
    "    # 4 : [10, 40]\r\n",
    "    # }\r\n",
    "\r\n",
    "    # candi = {}\r\n",
    "\r\n",
    "    # count = 0\r\n",
    "    # for i in range(0,map_range[0],spacing):\r\n",
    "    #     for j in range(0,map_range[1],spacing):\r\n",
    "    #         candi[count]=[i,j]\r\n",
    "    #         count += 1\r\n",
    "    # candi[count] = [3.61, 3.61]\r\n",
    "    # count+=1\r\n",
    "    # candi[count] = [6.44, 22.66]\r\n",
    "    # count+=1\r\n",
    "    # candi[count] = [10.02, 20.98]\r\n",
    "    # count+=1\r\n",
    "    # candi[count] = [14.16, 18.68]\r\n",
    "    # count+=1\r\n",
    "\r\n",
    "    A1 = {} #羊到會合點(包含終點)的arc的長度\r\n",
    "    for i in p:\r\n",
    "        for j in candi:\r\n",
    "            A1[i,j] = dis(p[i],candi[j])\r\n",
    "        A1[i,len(candi)] = dis(p[i], goal)\r\n",
    "\r\n",
    "    A2 = {} #會合點到會合點的arc的長度\r\n",
    "    for i in range(len(candi)):\r\n",
    "        for j in range(len(candi)):\r\n",
    "            if not i == j : \r\n",
    "                A2[i,j] = dis(candi[i],candi[j])\r\n",
    "\r\n",
    "    A3 = {} #會合點到終點的arc的長度\r\n",
    "    for i in candi:\r\n",
    "        A3[i] = dis(goal,candi[i])\r\n",
    "    return A1, A2, A3"
   ],
   "outputs": [],
   "metadata": {}
  },
  {
   "cell_type": "code",
   "execution_count": 4,
   "source": [
    "# print(candi)"
   ],
   "outputs": [],
   "metadata": {}
  },
  {
   "cell_type": "code",
   "execution_count": 5,
   "source": [
    "# 模型1(選部分點ver)\r\n",
    "def setup(p, candi, A1, A2, A3, goal):\r\n",
    "    model = Model(\"sheep\")\r\n",
    "    x1 = {}\r\n",
    "    x2 = {}\r\n",
    "    x3 = {}\r\n",
    "    #y = {}\r\n",
    "    z1 = {}\r\n",
    "    z2 = {}\r\n",
    "    z3 = {}\r\n",
    "\r\n",
    "    #for i in candi :\r\n",
    "    #   y[i] = model.addVar(vtype = \"B\", name = \"y(%s)\"%i)\r\n",
    "\r\n",
    "    for (i,j) in A1 :\r\n",
    "        x1[i,j] = model.addVar(vtype = \"I\", name = \"x1(%s,%s)\"%(i,j))\r\n",
    "        z1[i,j] = model.addVar(vtype = \"B\", name = \"z1(%s,%s)\"%(i,j))\r\n",
    "    # for i in p:\r\n",
    "    #     x1[i,0] = model.addVar(vtype = \"I\", name = 'x1{},{}'.format(i,j))\r\n",
    "    #     z1[i,0] = model.addVar(vtype = \"B\", name = 'z1{},{}'.format(i,j))\r\n",
    "    for (i,j) in A2 :\r\n",
    "        x2[i,j] = model.addVar(vtype = \"I\", name = \"x2(%s,%s)\"%(i,j))\r\n",
    "        z2[i,j] = model.addVar(vtype = \"B\", name = \"z2(%s,%s)\"%(i,j))\r\n",
    "    for j in A3 :\r\n",
    "        x3[j] = model.addVar(vtype = \"I\", name = \"x3(%s)\"%j)\r\n",
    "        z3[j] = model.addVar(vtype = \"B\", name = \"z3(%s)\"%j)\r\n",
    "\r\n",
    "    n2 = model.addVar(vtype = \"I\", name = \"n2\")\r\n",
    "\r\n",
    "    model.update()\r\n",
    "    for i in p:\r\n",
    "        model.addConstr(quicksum(x1[i,j] for j in candi) == 1 )\r\n",
    "\r\n",
    "    for j in range(len(candi)):\r\n",
    "        model.addConstr(quicksum(x1[i,j] for i in p) + quicksum(x2[i,j] for i in range(len(candi)) if not i == j) - quicksum(x2[j,i] for i in range(len(candi)) if not i == j) - x3[j]  == 0 )\r\n",
    "#         model.addConstr(quicksum(x2[j,i] for i in range(len(candi)) if not i == j) == 1)\r\n",
    "    model.addConstr(quicksum(x3[j] for j in A3) + quicksum(x1[i,0] for i in p) == len(p) )\r\n",
    "\r\n",
    "    for (i,j) in A1 :\r\n",
    "        model.addConstr(x1[i,j] <=  n2*z1[i,j])\r\n",
    "    for (i,j) in A2 :\r\n",
    "        model.addConstr(x2[i,j] <=  n2*z2[i,j])\r\n",
    "    for j in A3 :\r\n",
    "        model.addConstr(x3[j] <= n2*z3[j])\r\n",
    "    \r\n",
    "    # objective\r\n",
    "    model.setObjective(quicksum(A1[i,j]*z1[i,j] for (i,j) in z1) + quicksum(A2[i,j]*z2[i,j] for (i,j) in A2) + quicksum(A3[j]*z3[j] for (j) in A3),GRB.MINIMIZE)\r\n",
    "    return model"
   ],
   "outputs": [],
   "metadata": {}
  },
  {
   "cell_type": "code",
   "execution_count": 6,
   "source": [
    "# 模型2(選全部點ver)\r\n",
    "def setupIP(p, candi, A1, A2, A3, goal):\r\n",
    "    model = Model(\"sheep\")\r\n",
    "    x1 = {}\r\n",
    "    x2 = {}\r\n",
    "    x3 = {}\r\n",
    "    #y = {}\r\n",
    "    z1 = {}\r\n",
    "    z2 = {}\r\n",
    "    z3 = {}\r\n",
    "\r\n",
    "    #for i in candi :\r\n",
    "    #   y[i] = model.addVar(vtype = \"B\", name = \"y(%s)\"%i)\r\n",
    "\r\n",
    "    for (i,j) in A1 :\r\n",
    "        x1[i,j] = model.addVar(vtype = \"I\", name = \"x1(%s,%s)\"%(i,j))\r\n",
    "        z1[i,j] = model.addVar(vtype = \"B\", name = \"z1(%s,%s)\"%(i,j))\r\n",
    "#     for i in p:\r\n",
    "#         x1[i,0] = model.addVar(vtype = \"I\", name = 'x1{},{}'.format(i,j))\r\n",
    "    #     z1[i,0] = model.addVar(vtype = \"B\", name = 'z1{},{}'.format(i,j))\r\n",
    "    for (i,j) in A2 :\r\n",
    "        x2[i,j] = model.addVar(vtype = \"I\", name = \"x2(%s,%s)\"%(i,j))\r\n",
    "        z2[i,j] = model.addVar(vtype = \"B\", name = \"z2(%s,%s)\"%(i,j))\r\n",
    "    for j in A3 :\r\n",
    "        x3[j] = model.addVar(vtype = \"I\", name = \"x3(%s)\"%j)\r\n",
    "        z3[j] = model.addVar(vtype = \"B\", name = \"z3(%s)\"%j)\r\n",
    "\r\n",
    "    n2 = model.addVar(vtype = \"I\", name = \"n2\")\r\n",
    "\r\n",
    "    model.update()\r\n",
    "    for i in p:\r\n",
    "        model.addConstr(quicksum(x1[i,j] for j in candi) == 1 )\r\n",
    "\r\n",
    "    for j in range(len(candi)):\r\n",
    "        model.addConstr(quicksum(x1[i,j] for i in p) + quicksum(x2[i,j] for i in range(len(candi)) if not i == j) - quicksum(x2[j,i] for i in range(len(candi)) if not i == j) - x3[j]  == 0 )\r\n",
    "        model.addConstr(quicksum(x2[j,i] for i in range(len(candi)) if not i == j) + x3[j] >= 1)\r\n",
    "    model.addConstr(quicksum(x3[j] for j in A3) + quicksum(x1[i,0] for i in p) == len(p) )\r\n",
    "\r\n",
    "    for (i,j) in A1 :\r\n",
    "        model.addConstr(x1[i,j] <=  len(p)*z1[i,j])\r\n",
    "    for (i,j) in A2 :\r\n",
    "        model.addConstr(x2[i,j] <=  len(p)*z2[i,j])\r\n",
    "    for j in A3 :\r\n",
    "        model.addConstr(x3[j] <= len(p)*z3[j])\r\n",
    "    \r\n",
    "    # objective\r\n",
    "    model.setObjective(quicksum(A1[i,j]*z1[i,j] for (i,j) in z1) + quicksum(A2[i,j]*z2[i,j] for (i,j) in A2) + quicksum(A3[j]*z3[j] for (j) in A3),GRB.MINIMIZE)\r\n",
    "    return model"
   ],
   "outputs": [],
   "metadata": {}
  },
  {
   "cell_type": "code",
   "execution_count": 7,
   "source": [
    "# A1, A2, A3 = init(test_p, bestcase[0], test_goal)\r\n",
    "# test_model = setup(test_p, bestcase[0], A1,A2,A3,test_goal)\r\n",
    "# test_model.optimize()"
   ],
   "outputs": [],
   "metadata": {}
  },
  {
   "cell_type": "code",
   "execution_count": 8,
   "source": [
    "# print(\"Objective value :\", test_model.ObjVal)\r\n",
    "# for v in test_model.getVars():\r\n",
    "#     if(\"x\" in v.VarName):\r\n",
    "#         if(v.x > 0):\r\n",
    "#             print(v.VarName,v.x)\r\n",
    "# print(\"n2 : \",test_model.getVarByName(\"n2\").x)"
   ],
   "outputs": [],
   "metadata": {
    "scrolled": true
   }
  },
  {
   "cell_type": "code",
   "execution_count": 9,
   "source": [
    "# print(candi)"
   ],
   "outputs": [],
   "metadata": {}
  },
  {
   "cell_type": "code",
   "execution_count": 10,
   "source": [
    "# fig = plt.figure()\r\n",
    "# # plt.xlim(-5,map_range[0]+5)\r\n",
    "# # plt.ylim(-5,map_range[1]+5)\r\n",
    "# candi = bestcase[0]\r\n",
    "# goal = test_goal\r\n",
    "# p = test_p\r\n",
    "# x1 = []\r\n",
    "# x2 = []\r\n",
    "# x3 = []\r\n",
    "# for v in test_model.getVars():\r\n",
    "#     if(v.x > 0):\r\n",
    "#         if(\"x1\" in v.VarName):\r\n",
    "#             x1.append(v.VarName.replace(\"x1\",\"\").replace(\"(\",\"\").replace(\")\",\"\").split(\",\")) \r\n",
    "#         if(\"x2\" in v.VarName):\r\n",
    "#             x2.append(v.VarName.replace(\"x2\",\"\").replace(\"(\",\"\").replace(\")\",\"\").split(\",\"))\r\n",
    "#         if(\"x3\" in v.VarName):\r\n",
    "#             x3.append(v.VarName.replace(\"x3\",\"\").replace(\"(\",\"\").replace(\")\",\"\"))\r\n",
    "\r\n",
    "# for i in range(len(x3)):\r\n",
    "#     plt.plot([candi[int(x3[i])][0],goal[0]],[candi[int(x3[i])][1],goal[1]],'bo-')\r\n",
    "# for i in range(len(x2)):\r\n",
    "#     plt.plot([candi[int(x2[i][0])][0],candi[int(x2[i][1])][0]],[candi[int(x2[i][0])][1],candi[int(x2[i][1])][1]],'bo-')\r\n",
    "# for i in range(len(x1)):\r\n",
    "#     plt.plot([p[int(x1[i][0])][0],candi[int(x1[i][1])][0]],[p[int(x1[i][0])][1],candi[int(x1[i][1])][1]],'bo-')\r\n",
    "#     plt.plot(p[i][0],p[i][1],'ro')\r\n",
    "# plt.plot(goal[0],goal[1],'go')\r\n",
    "# plt.axis([0,50,0,60])\r\n",
    "# plt.show()"
   ],
   "outputs": [],
   "metadata": {}
  },
  {
   "cell_type": "code",
   "execution_count": 11,
   "source": [
    "# pso\r\n",
    "# readfile\r\n",
    "test_p = {}\r\n",
    "test_goal = list()\r\n",
    "test_n = 0\r\n",
    "cognition_factor = 0\r\n",
    "social_factor = 0\r\n",
    "iterations = 0\r\n",
    "pop_size = 0\r\n",
    "with open('input_pso.txt', 'r',encoding=\"utf-8\") as f:\r\n",
    "    line = f.readline()\r\n",
    "    while line:\r\n",
    "        line = f.readline()\r\n",
    "        if line != '':\r\n",
    "            text = line.split('\\t', 4)\r\n",
    "            if line[0] == 'p':\r\n",
    "                test_p[int(text[1])] = [int(text[2]), int(text[3])]\r\n",
    "            elif line[0] == 'o':\r\n",
    "                test_goal = [int(text[1]), int(text[2])]\r\n",
    "            elif line[0] == 'n':\r\n",
    "                test_n = int(text[1])\r\n",
    "            elif line[0] == 'r':\r\n",
    "                cognition_factor = float(text[1])\r\n",
    "                social_factor = float(text[2])\r\n",
    "            elif line[0] == 't':\r\n",
    "                iterations = int(text[1])\r\n",
    "            elif line[0] == 'z':\r\n",
    "                pop_size = int(text[1])\r\n",
    "                "
   ],
   "outputs": [],
   "metadata": {
    "scrolled": true
   }
  },
  {
   "cell_type": "code",
   "execution_count": null,
   "source": [],
   "outputs": [],
   "metadata": {}
  },
  {
   "cell_type": "code",
   "execution_count": 12,
   "source": [
    "# pso 相關function\r\n",
    "def update(curr, objs, best_local, best_global, bestcase_local, bestcase):\r\n",
    "    flag = False\r\n",
    "    for i in curr:\r\n",
    "        if  objs[i] < best_local[i]:\r\n",
    "            bestcase_local[i] = copy.deepcopy(curr[i])\r\n",
    "            best_local[i] = objs[i]\r\n",
    "            # update\r\n",
    "            if objs[i] < best_global:\r\n",
    "#                 print('change')\r\n",
    "                flag = True\r\n",
    "                best_global = objs[i]\r\n",
    "                bestcase[0] = copy.deepcopy(curr[i])\r\n",
    "    return best_global, flag\r\n",
    "def movement(curr, cognition_factor, social_factor, bestcase_local, bestcase):\r\n",
    "    for i in curr:\r\n",
    "        alpha = cognition_factor*random.random()\r\n",
    "        beta = social_factor*random.random()\r\n",
    "        for j in curr[i]:\r\n",
    "            vx = alpha*(bestcase_local[i][j][0] - curr[i][j][0]) + beta*(bestcase[0][j][0] - curr[i][j][0])\r\n",
    "            vy = alpha*(bestcase_local[i][j][1] - curr[i][j][1]) + beta*(bestcase[0][j][1] - curr[i][j][1])\r\n",
    "            curr[i][j] = [max(simple(vx + curr[i][j][0]),0), max(simple(vy+ curr[i][j][1]),0)]"
   ],
   "outputs": [],
   "metadata": {}
  },
  {
   "cell_type": "code",
   "execution_count": 13,
   "source": [
    "def init_pso(test_p, test_goal, pop_size):\r\n",
    "    # create random candi\r\n",
    "    curr = {}\r\n",
    "    objs = {}\r\n",
    "    best_local = {}\r\n",
    "    best_global = 99999\r\n",
    "#     pop_size = 3\r\n",
    "    for i in range(len(test_p)):\r\n",
    "        curr[i] = {}\r\n",
    "        objs[i] = 99999\r\n",
    "        best_local[i] = 99999\r\n",
    "        for j in range(pop_size):\r\n",
    "            curr[i][j] = [simple(random.uniform(0, 40)), simple(random.uniform(0, 40))]\r\n",
    "    bestcase_local = {}\r\n",
    "    bestcase = {}\r\n",
    "    A1 = {}\r\n",
    "    A2 = {}\r\n",
    "    A3 = {}\r\n",
    "    for i in range(len(curr)):\r\n",
    "        A1, A2, A3 = init(test_p, curr[i], test_goal)\r\n",
    "        test_model = setupIP(test_p, curr[i], A1,A2,A3,test_goal)\r\n",
    "        test_model.Params.LogToConsole = 0\r\n",
    "        test_model.optimize()\r\n",
    "        objs[i] = test_model.ObjVal\r\n",
    "    best_global, flag = update(curr, objs, best_local, best_global, bestcase_local, bestcase)\r\n",
    "    return curr, objs, best_local, best_global, bestcase_local, bestcase\r\n"
   ],
   "outputs": [],
   "metadata": {}
  },
  {
   "cell_type": "code",
   "execution_count": 14,
   "source": [
    "def pso(iterations, curr, cognition_factor, social_factor, best_local, best_global, bestcase_local, bestcase, test_p, test_goal):\r\n",
    "#     iterations = 100\r\n",
    "    for x in range(iterations):\r\n",
    "        movement(curr, cognition_factor, social_factor, bestcase_local, bestcase)\r\n",
    "        for i in range(len(curr)):\r\n",
    "            A1 = {}\r\n",
    "            A2 = {}\r\n",
    "            A3 = {}\r\n",
    "            A1, A2, A3 = init(test_p, curr[i], test_goal)\r\n",
    "    #         print(curr)\r\n",
    "            test_model = setupIP(test_p, curr[i], A1,A2,A3,test_goal)\r\n",
    "            test_model.Params.LogToConsole = 0\r\n",
    "            test_model.optimize()\r\n",
    "            objs[i] = test_model.ObjVal\r\n",
    "    #     print(curr)\r\n",
    "        best_global, flag = update(curr, objs, best_local, best_global, bestcase_local, bestcase)\r\n",
    "#         if flag:\r\n",
    "#             print('iteration ' + str(x) + ' , best_global: ' + str(best_global))\r\n",
    "    return best_global\r\n",
    "\r\n",
    "# best_global = pso(100, curr, cognition_factor, social_factor, best_local, best_global, bestcase_local, bestcase, test_p, test_goal)    \r\n",
    "# print('done, totalBest:' + str(best_global))\r\n",
    "# # for i in bestcase[0]:\r\n",
    "# print(bestcase[0])"
   ],
   "outputs": [],
   "metadata": {}
  },
  {
   "cell_type": "code",
   "execution_count": 15,
   "source": [
    "# best_global"
   ],
   "outputs": [],
   "metadata": {}
  },
  {
   "cell_type": "code",
   "execution_count": null,
   "source": [
    "# bestObj = 99999\r\n",
    "# best = []\r\n",
    "# 測試(參數可自行改)\r\n",
    "best_obj = {}   \r\n",
    "best_it = {}\r\n",
    "for x in range(3,7):\r\n",
    "    print('pop_size: ' + str(x))\r\n",
    "    bestObj = 999999\r\n",
    "    best = []\r\n",
    "    for i in range(500):\r\n",
    "        if i % 100  == 0:\r\n",
    "            print('iterations: ' + str(i))\r\n",
    "        curr, objs, best_local, best_global, bestcase_local, bestcase = init_pso(test_p, test_goal, x)\r\n",
    "        best_global = pso(300, curr, cognition_factor, social_factor, best_local, best_global, bestcase_local, bestcase, test_p, test_goal)\r\n",
    "        A1, A2, A3 = init(test_p, bestcase[0], test_goal)\r\n",
    "        test_model = setup(test_p, bestcase[0], A1,A2,A3,test_goal)\r\n",
    "        test_model.Params.LogToConsole = 0\r\n",
    "        test_model.optimize()\r\n",
    "#         print('sample ' + str(i) + ' : ' + str(test_model.ObjVal))\r\n",
    "        if test_model.ObjVal < bestObj:\r\n",
    "            bestObj = test_model.ObjVal\r\n",
    "            best = copy.deepcopy(bestcase[0])\r\n",
    "    best_obj[x] = bestObj\r\n",
    "    best_it[x] = copy.deepcopy(best)\r\n",
    "print('bestcase : ')\r\n",
    "print(best_it)\r\n",
    "print(best_obj)\r\n",
    "# print(', obj: ' + str(bestObj))"
   ],
   "outputs": [
    {
     "output_type": "stream",
     "name": "stdout",
     "text": [
      "pop_size: 3\n",
      "iterations: 0\n",
      "iterations: 100\n",
      "iterations: 200\n",
      "iterations: 300\n",
      "iterations: 400\n",
      "pop_size: 4\n",
      "iterations: 0\n",
      "iterations: 100\n"
     ]
    }
   ],
   "metadata": {}
  },
  {
   "cell_type": "code",
   "execution_count": 24,
   "source": [
    "# 畫圖方便觀察用\r\n",
    "for i in best_it:\r\n",
    "    print('case ' + str(i) + ' : ')\r\n",
    "    A1, A2, A3 = init(test_p, best_it[i], test_goal)\r\n",
    "    test_model = setup(test_p, best_it[i], A1,A2,A3,test_goal)\r\n",
    "    test_model.Params.LogToConsole = 0\r\n",
    "    test_model.optimize()\r\n",
    "    fig = plt.figure()\r\n",
    "    # plt.xlim(-5,map_range[0]+5)\r\n",
    "    # plt.ylim(-5,map_range[1]+5)\r\n",
    "    candi = bestcase[0]\r\n",
    "    goal = test_goal\r\n",
    "    p = test_p\r\n",
    "    x1 = []\r\n",
    "    x2 = []\r\n",
    "    x3 = []\r\n",
    "    for v in test_model.getVars():\r\n",
    "        if(v.x > 0):\r\n",
    "            if(\"x1\" in v.VarName):\r\n",
    "                x1.append(v.VarName.replace(\"x1\",\"\").replace(\"(\",\"\").replace(\")\",\"\").split(\",\")) \r\n",
    "            if(\"x2\" in v.VarName):\r\n",
    "                x2.append(v.VarName.replace(\"x2\",\"\").replace(\"(\",\"\").replace(\")\",\"\").split(\",\"))\r\n",
    "            if(\"x3\" in v.VarName):\r\n",
    "                x3.append(v.VarName.replace(\"x3\",\"\").replace(\"(\",\"\").replace(\")\",\"\"))\r\n",
    "\r\n",
    "    for i in range(len(x3)):\r\n",
    "        plt.plot([candi[int(x3[i])][0],goal[0]],[candi[int(x3[i])][1],goal[1]],'bo-')\r\n",
    "    for i in range(len(x2)):\r\n",
    "        plt.plot([candi[int(x2[i][0])][0],candi[int(x2[i][1])][0]],[candi[int(x2[i][0])][1],candi[int(x2[i][1])][1]],'bo-')\r\n",
    "    for i in range(len(x1)):\r\n",
    "        plt.plot([p[int(x1[i][0])][0],candi[int(x1[i][1])][0]],[p[int(x1[i][0])][1],candi[int(x1[i][1])][1]],'bo-')\r\n",
    "        plt.plot(p[i][0],p[i][1],'ro')\r\n",
    "    plt.plot(goal[0],goal[1],'go')\r\n",
    "    plt.axis([0,50,0,60])\r\n",
    "    plt.show()\r\n",
    "    print('obj : ' + str(test_model.ObjVal))"
   ],
   "outputs": [
    {
     "output_type": "stream",
     "name": "stdout",
     "text": [
      "case 3 : \n"
     ]
    },
    {
     "output_type": "display_data",
     "data": {
      "image/png": "[encoded data removed]",
      "text/plain": [
       "<Figure size 432x288 with 1 Axes>"
      ]
     },
     "metadata": {
      "needs_background": "light"
     }
    },
    {
     "output_type": "stream",
     "name": "stdout",
     "text": [
      "obj : 146.4654523902351\n",
      "case 4 : \n"
     ]
    },
    {
     "output_type": "display_data",
     "data": {
      "image/png": "[encoded data removed]",
      "text/plain": [
       "<Figure size 432x288 with 1 Axes>"
      ]
     },
     "metadata": {
      "needs_background": "light"
     }
    },
    {
     "output_type": "stream",
     "name": "stdout",
     "text": [
      "obj : 135.95776668780096\n",
      "case 5 : \n"
     ]
    },
    {
     "output_type": "display_data",
     "data": {
      "image/png": "[encoded data removed]",
      "text/plain": [
       "<Figure size 432x288 with 1 Axes>"
      ]
     },
     "metadata": {
      "needs_background": "light"
     }
    },
    {
     "output_type": "stream",
     "name": "stdout",
     "text": [
      "obj : 134.74838077866633\n",
      "case 6 : \n"
     ]
    },
    {
     "output_type": "display_data",
     "data": {
      "image/png": "[encoded data removed]",
      "text/plain": [
       "<Figure size 432x288 with 1 Axes>"
      ]
     },
     "metadata": {
      "needs_background": "light"
     }
    },
    {
     "output_type": "stream",
     "name": "stdout",
     "text": [
      "obj : 122.93964215225718\n"
     ]
    }
   ],
   "metadata": {}
  },
  {
   "cell_type": "code",
   "execution_count": 18,
   "source": [
    "save_best = best\r\n",
    "save_obj = bestObj"
   ],
   "outputs": [],
   "metadata": {}
  },
  {
   "cell_type": "code",
   "execution_count": 19,
   "source": [
    "# def clearFile(filename):\r\n",
    "#     open(filename, 'w').close()"
   ],
   "outputs": [],
   "metadata": {}
  },
  {
   "cell_type": "code",
   "execution_count": 20,
   "source": [
    "# path = {}\r\n",
    "# for i in range(len(test_p)):\r\n",
    "#     path[i] = [i]\r\n",
    "# for i, j in x1:\r\n",
    "#     path[int(i)].append(int(j) + len(test_p))\r\n",
    "# for i , j in x2:\r\n",
    "#     for k in path:\r\n",
    "#         if path[k][len(path[k]) - 1] == int(i) + len(test_p):\r\n",
    "#             path[k].append(int(j) + len(test_p))\r\n",
    "# for i in x3:\r\n",
    "#     for k in path:\r\n",
    "#         if path[k][len(path[k]) - 1] == int(i) + len(test_p):\r\n",
    "#             path[k].append('end')"
   ],
   "outputs": [],
   "metadata": {}
  },
  {
   "cell_type": "code",
   "execution_count": 21,
   "source": [
    "# filename = 'input_point.txt'\n",
    "# f = open(filename, \"a\")\n",
    "# clearFile(filename)\n",
    "# f.write('n\\t' + str(len(test_p)) + '\\t\\n')\n",
    "# f.write('m\\t' + str(len(bestcase[0])) + '\\t\\n')\n",
    "# f.write('s\\t' + str(test_goal[0]) + '\\t' + str(test_goal[1]) + '\\t\\n')\n",
    "# for i in test_p:\n",
    "#     f.write('d\\t' + str(i) + '\\t' + str(test_p[i][0]) + '\\t' + str(test_p[i][1]) + '\\t\\n')\n",
    "# for i in path:\n",
    "#     f.write('p')\n",
    "#     for j in path[i]:\n",
    "#         if j == 'end':\n",
    "#             f.write('\\t-1')\n",
    "#         else:\n",
    "#             f.write('\\t' + str(j))\n",
    "#     f.write('\\n')\n",
    "        \n",
    "        \n",
    "# f.write('e')\n",
    "# f.close()"
   ],
   "outputs": [],
   "metadata": {}
  }
 ],
 "metadata": {
  "interpreter": {
   "hash": "4f7996716756ccd8771d45e41afef25d9c6734c584192d9663f99ce2ba1f443f"
  },
  "kernelspec": {
   "display_name": "Python 3",
   "language": "python",
   "name": "python3"
  },
  "language_info": {
   "codemirror_mode": {
    "name": "ipython",
    "version": 3
   },
   "file_extension": ".py",
   "mimetype": "text/x-python",
   "name": "python",
   "nbconvert_exporter": "python",
   "pygments_lexer": "ipython3",
   "version": "3.8.5"
  }
 },
 "nbformat": 4,
 "nbformat_minor": 5
}