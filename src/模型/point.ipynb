{
 "cells": [
  {
   "cell_type": "code",
   "execution_count": 1,
   "metadata": {},
   "outputs": [],
   "source": [
    "from gurobipy import *\n",
    "import math"
   ]
  },
  {
   "cell_type": "code",
   "execution_count": 6,
   "metadata": {},
   "outputs": [],
   "source": [
    "p = {\n",
    "0:[1,1],\n",
    "1: [30,4],\n",
    "2: [50,10]}\n",
    "tar = [0,0]"
   ]
  },
  {
   "cell_type": "code",
   "execution_count": 3,
   "metadata": {},
   "outputs": [],
   "source": [
    "def max(list):\n",
    "    max_x = 0\n",
    "    ind_x = -1\n",
    "    max_y = 0\n",
    "    ind_y = -1\n",
    "    for i in list:\n",
    "        if p[i][0] > max_x:\n",
    "            max_x = p[i][0]\n",
    "            ind_x = i\n",
    "        if p[i][1] > max_y:\n",
    "            max_y = p[i][1]\n",
    "            ind_y = i\n",
    "    return ind_x, ind_y\n",
    "# print(max(p))"
   ]
  },
  {
   "cell_type": "code",
   "execution_count": 8,
   "metadata": {},
   "outputs": [
    {
     "name": "stdout",
     "output_type": "stream",
     "text": [
      "Changed value of parameter NonConvex to 2\n",
      "   Prev: -1  Min: -1  Max: 2  Default: -1\n",
      "Gurobi Optimizer version 9.1.1 build v9.1.1rc0 (win64)\n",
      "Thread count: 8 physical cores, 8 logical processors, using up to 8 threads\n",
      "Optimize a model with 7 rows, 16 columns and 10 nonzeros\n",
      "Model fingerprint: 0x0bc62549\n",
      "Model has 4 quadratic constraints\n",
      "Model has 2 general constraints\n",
      "Variable types: 4 continuous, 12 integer (8 binary)\n",
      "Coefficient statistics:\n",
      "  Matrix range     [1e+00, 1e+00]\n",
      "  QMatrix range    [1e+00, 1e+02]\n",
      "  QLMatrix range   [1e+00, 5e+03]\n",
      "  Objective range  [1e+00, 1e+00]\n",
      "  Bounds range     [1e+00, 1e+00]\n",
      "  RHS range        [1e+00, 5e+01]\n",
      "Presolve added 0 rows and 1197 columns\n",
      "Presolve removed 1 rows and 0 columns\n",
      "Presolve time: 0.00s\n",
      "Presolved: 28 rows, 1227 columns, 3672 nonzeros\n",
      "Presolved model has 2 SOS constraint(s)\n",
      "Presolved model has 2 quadratic constraint(s)\n",
      "Variable types: 1206 continuous, 21 integer (3 binary)\n",
      "\n",
      "Root relaxation: objective 3.750783e+02, 45 iterations, 0.00 seconds\n",
      "\n",
      "    Nodes    |    Current Node    |     Objective Bounds      |     Work\n",
      " Expl Unexpl |  Obj  Depth IntInf | Incumbent    BestBd   Gap | It/Node Time\n",
      "\n",
      "     0     0  375.07829    0   12          -  375.07829      -     -    0s\n",
      "H    0     0                    3518.0000000  375.07829  89.3%     -    0s\n",
      "     0     0 2281.57869    0   18 3518.00000 2281.57869  35.1%     -    0s\n",
      "     0     0 2330.07044    0   16 3518.00000 2330.07044  33.8%     -    0s\n",
      "     0     0 2837.80941    0   19 3518.00000 2837.80941  19.3%     -    0s\n",
      "     0     0 2852.86302    0   20 3518.00000 2852.86302  18.9%     -    0s\n",
      "     0     0 2877.94560    0   22 3518.00000 2877.94560  18.2%     -    0s\n",
      "     0     0 2879.92020    0   22 3518.00000 2879.92020  18.1%     -    0s\n",
      "     0     0 2882.22798    0   23 3518.00000 2882.22798  18.1%     -    0s\n",
      "     0     0 2882.22798    0   23 3518.00000 2882.22798  18.1%     -    0s\n",
      "     0     2 2882.22798    0   23 3518.00000 2882.22798  18.1%     -    0s\n",
      "*   22     8               5    3377.0000000 3364.89000  0.36%  18.1    0s\n",
      "H   31     2                    3369.0000000 3365.27000  0.11%  13.7    0s\n",
      "\n",
      "Cutting planes:\n",
      "  Gomory: 1\n",
      "  MIR: 11\n",
      "  Flow cover: 1\n",
      "  RLT: 2\n",
      "\n",
      "Explored 36 nodes (925 simplex iterations) in 0.16 seconds\n",
      "Thread count was 8 (of 8 available processors)\n",
      "\n",
      "Solution count 3: 3369 3377 3518 \n",
      "\n",
      "Optimal solution found (tolerance 1.00e-04)\n",
      "Best objective 3.369000000000e+03, best bound 3.369000000000e+03, gap 0.0000%\n",
      "Optimize value =  3369.0\n"
     ]
    }
   ],
   "source": [
    "model = Model(\"Point\")\n",
    "x = model.addVar(vtype = GRB.INTEGER, name = 'x')\n",
    "x_2 = model.addVar(vtype = GRB.INTEGER, name = 'x2')\n",
    "y = model.addVar(vtype = GRB.INTEGER, name = 'y')\n",
    "y_2 = model.addVar(vtype = GRB.INTEGER, name = 'y2')\n",
    "dis = {}\n",
    "m = {}\n",
    "disToTar = {}\n",
    "for i in p:\n",
    "    disToTar[i] = pow(tar[0]-p[i][0],2) + pow(tar[1]-p[i][1],2)\n",
    "for i in range(len(p)+1):\n",
    "    dis[i] = model.addVar(vtype = GRB.CONTINUOUS, name = 'dis{}'.format(i))\n",
    "    for j in range(2):\n",
    "        m[i,j] = model.addVar(vtype = GRB.BINARY, name = 'm{},{}'.format(i,j))\n",
    "ind_x, ind_y = max(p)\n",
    "model.addConstr(p[ind_x][0] >= x, name = '(x)')\n",
    "model.addConstr(p[ind_y][1] >= y, name = '(y)')\n",
    "model.addConstr(tar[0] <= x, name = '(x)')\n",
    "model.addConstr(tar[1] <= y, name = '(y)')\n",
    "\n",
    "count = 0\n",
    "model.addGenConstrPow( x, x_2, 2.0, name = \"x2\")\n",
    "model.addGenConstrPow( y, y_2, 2.0, name = \"y2\")\n",
    "for i in p:\n",
    "    disToP = m[int(i),0]*(x_2+y_2)-m[int(i),0]*2*(x+y)*p[i][0]+ 2*m[int(i),0]*pow(p[i][0],2)\n",
    "    model.addConstr(dis[int(i)] >= disToP + m[int(i),1]*disToTar[i], name = \"(dis)\")\n",
    "model.addConstr(dis[len(p)] >= pow(x-tar[0],2) + pow(y-tar[1],2), name = \"(dis)\")\n",
    "\n",
    "for i in p:\n",
    "    model.addConstr(m[i,0] + m[i,1] == 1, name = '(type)')\n",
    "    \n",
    "    \n",
    "lhs_t = LinExpr(quicksum(dis[i] for i in range(len(p)+1)))\n",
    "model.setObjective(lhs_t,GRB.MINIMIZE)\n",
    "model.params.NonConvex = 2\n",
    "model.update()\n",
    "# model.display()\n",
    "model.optimize()\n",
    "print(\"Optimize value = \", model.ObjVal)\n"
   ]
  },
  {
   "cell_type": "code",
   "execution_count": 9,
   "metadata": {},
   "outputs": [
    {
     "name": "stdout",
     "output_type": "stream",
     "text": [
      "x : 26.999999999999865\n",
      "y : 10.0\n",
      "m0,1 : 1.0\n",
      "m1,0 : 1.0\n",
      "m2,0 : 1.0\n"
     ]
    }
   ],
   "source": [
    "for var in model.getVars(): \n",
    "    if(var.varName == 'x' or var.varName == 'y'):\n",
    "        print('{name} : {val}'.format(name=var.varName, val = var.x))\n",
    "    if(var.varName[0] == 'm' and var.x > 0):\n",
    "        print('{name} : {val}'.format(name=var.varName, val = var.x))"
   ]
  }
 ],
 "metadata": {
  "kernelspec": {
   "display_name": "Python 3",
   "language": "python",
   "name": "python3"
  },
  "language_info": {
   "codemirror_mode": {
    "name": "ipython",
    "version": 3
   },
   "file_extension": ".py",
   "mimetype": "text/x-python",
   "name": "python",
   "nbconvert_exporter": "python",
   "pygments_lexer": "ipython3",
   "version": "3.8.5"
  }
 },
 "nbformat": 4,
 "nbformat_minor": 4
}
