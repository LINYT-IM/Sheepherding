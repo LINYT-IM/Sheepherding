{
 "cells": [
  {
   "cell_type": "code",
   "execution_count": 1,
   "metadata": {},
   "outputs": [],
   "source": [
    "from gurobipy import *\n",
    "import math"
   ]
  },
  {
   "cell_type": "code",
   "execution_count": 2,
   "metadata": {},
   "outputs": [],
   "source": [
    "p = {\n",
    "0:[20,1],\n",
    "1: [30,4],\n",
    "2: [50,10]}\n",
    "tar = [0,0]"
   ]
  },
  {
   "cell_type": "code",
   "execution_count": 20,
   "metadata": {},
   "outputs": [],
   "source": [
    "def max(list):\n",
    "    max_x = 0\n",
    "    ind_x = -1\n",
    "    max_y = 0\n",
    "    ind_y = -1\n",
    "    for i in list:\n",
    "        if p[i][0] > max_x:\n",
    "            max_x = p[i][0]\n",
    "            ind_x = i\n",
    "        if p[i][1] > max_y:\n",
    "            max_y = p[i][1]\n",
    "            ind_y = i\n",
    "    return ind_x, ind_y\n",
    "# print(max(p))"
   ]
  },
  {
   "cell_type": "code",
   "execution_count": 22,
   "metadata": {},
   "outputs": [
    {
     "name": "stdout",
     "output_type": "stream",
     "text": [
      "Changed value of parameter NonConvex to 2\n",
      "   Prev: -1  Min: -1  Max: 2  Default: -1\n",
      "Minimize\n",
      "   <gurobi.LinExpr: dis0 + dis1 + dis2 + dis3>\n",
      "Subject To\n",
      "   (x) : <gurobi.LinExpr: x> <= 50.0\n",
      "   (y) : <gurobi.LinExpr: y> <= 10.0\n",
      "   (x) : <gurobi.LinExpr: x> >= 0.0\n",
      "   (y) : <gurobi.LinExpr: y> >= 0.0\n",
      "   (dis) : <gurobi.QuadExpr: 40.0 x + 2.0 y + dis0 + [ -1.0 x ^ 2 + -1.0 y ^ 2 ]> >= 401.0\n",
      "   (dis) : <gurobi.QuadExpr: 60.0 x + 8.0 y + dis1 + [ -1.0 x ^ 2 + -1.0 y ^ 2 ]> >= 916.0\n",
      "   (dis) : <gurobi.QuadExpr: 100.0 x + 20.0 y + dis2 + [ -1.0 x ^ 2 + -1.0 y ^ 2 ]> >= 2600.0\n",
      "   (dis) : <gurobi.QuadExpr: dis3 + [ -1.0 x ^ 2 + -1.0 y ^ 2 ]> >= 0.0\n",
      "General Integers\n",
      "   ['x', 'y']\n",
      "Gurobi Optimizer version 9.1.1 build v9.1.1rc0 (win64)\n",
      "Thread count: 8 physical cores, 8 logical processors, using up to 8 threads\n",
      "Optimize a model with 4 rows, 6 columns and 4 nonzeros\n",
      "Model fingerprint: 0x876b8660\n",
      "Model has 4 quadratic constraints\n",
      "Variable types: 4 continuous, 2 integer (0 binary)\n",
      "Coefficient statistics:\n",
      "  Matrix range     [1e+00, 1e+00]\n",
      "  QMatrix range    [1e+00, 1e+00]\n",
      "  QLMatrix range   [1e+00, 1e+02]\n",
      "  Objective range  [1e+00, 1e+00]\n",
      "  Bounds range     [0e+00, 0e+00]\n",
      "  RHS range        [1e+01, 5e+01]\n",
      "  QRHS range       [4e+02, 3e+03]\n",
      "Presolve removed 1 rows and 0 columns\n",
      "Presolve time: 0.00s\n",
      "Presolved: 10 rows, 8 columns, 25 nonzeros\n",
      "Presolved model has 2 bilinear constraint(s)\n",
      "Variable types: 0 continuous, 8 integer (0 binary)\n",
      "\n",
      "Root relaxation: objective 1.183000e+03, 5 iterations, 0.00 seconds\n",
      "\n",
      "    Nodes    |    Current Node    |     Objective Bounds      |     Work\n",
      " Expl Unexpl |  Obj  Depth IntInf | Incumbent    BestBd   Gap | It/Node Time\n",
      "\n",
      "     0     0 1183.00000    0    2          - 1183.00000      -     -    0s\n",
      "H    0     0                    1533.0000000 1183.00000  22.8%     -    0s\n",
      "     0     0 1208.73360    0    7 1533.00000 1208.73360  21.2%     -    0s\n",
      "H    0     0                    1449.0000000 1208.73360  16.6%     -    0s\n",
      "     0     0 1217.39232    0    9 1449.00000 1217.39232  16.0%     -    0s\n",
      "     0     0 1217.42646    0    9 1449.00000 1217.42646  16.0%     -    0s\n",
      "     0     0 1219.12000    0    9 1449.00000 1219.12000  15.9%     -    0s\n",
      "H    0     0                    1419.0000000 1219.12000  14.1%     -    0s\n",
      "     0     2 1219.12000    0    9 1419.00000 1219.12000  14.1%     -    0s\n",
      "*    6     6               2    1397.0000000 1330.00000  4.80%   1.5    0s\n",
      "*    7     8               3    1389.0000000 1330.00000  4.25%   1.3    0s\n",
      "H    9     8                    1385.0000000 1337.00000  3.47%   1.3    0s\n",
      "*   19     9               4    1383.0000000 1353.00000  2.17%   0.9    0s\n",
      "*   23     9               5    1381.0000000 1353.00000  2.03%   0.8    0s\n",
      "*   26     9               5    1377.0000000 1357.00000  1.45%   0.7    0s\n",
      "H   32     7                    1365.0000000 1357.00000  0.59%   0.6    0s\n",
      "H   39     2                    1361.0000000 1357.00000  0.29%   0.5    0s\n",
      "\n",
      "Cutting planes:\n",
      "  Gomory: 1\n",
      "\n",
      "Explored 43 nodes (30 simplex iterations) in 0.04 seconds\n",
      "Thread count was 8 (of 8 available processors)\n",
      "\n",
      "Solution count 10: 1361 1365 1377 ... 1449\n",
      "\n",
      "Optimal solution found (tolerance 1.00e-04)\n",
      "Best objective 1.361000000000e+03, best bound 1.361000000000e+03, gap 0.0000%\n",
      "Optimize value =  1361.0\n"
     ]
    }
   ],
   "source": [
    "model = Model(\"Point\")\n",
    "x = model.addVar(vtype = GRB.INTEGER, name = 'x')\n",
    "y = model.addVar(vtype = GRB.INTEGER, name = 'y')\n",
    "dis = {}\n",
    "m = {}\n",
    "for i in range(len(p)+1):\n",
    "    dis[i] = model.addVar(vtype = GRB.CONTINUOUS, name = 'dis{}'.format(i))\n",
    "    for j in range(1):\n",
    "        m[i,j] = model.addVar(vtype = GRB.BINARY, name = 'm{},{}'.format(i,j))\n",
    "ind_x, ind_y = max(p)\n",
    "model.addConstr(p[ind_x][0] >= x, name = '(x)')\n",
    "model.addConstr(p[ind_y][1] >= y, name = '(y)')\n",
    "model.addConstr(tar[0] <= x, name = '(x)')\n",
    "model.addConstr(tar[1] <= y, name = '(y)')\n",
    "\n",
    "count = 0\n",
    "for i in p:\n",
    "    model.addConstr(dis[int(i)] >= pow(x-p[i][0],2) + pow(y-p[i][1],2), name = \"(dis)\")\n",
    "model.addConstr(dis[len(p)] >= pow(x-tar[0],2) + pow(y-tar[1],2), name = \"(dis)\")\n",
    "\n",
    "for i in p:\n",
    "    model.addConstr(m[0,j] + m[1,j] == 1, name = '(type)')\n",
    "    \n",
    "    \n",
    "lhs_t = LinExpr(quicksum(dis[i] for i in range(len(p)+1)))\n",
    "model.setObjective(lhs_t,GRB.MINIMIZE)\n",
    "model.params.NonConvex = 2\n",
    "model.update()\n",
    "model.display()\n",
    "model.optimize()\n",
    "print(\"Optimize value = \", model.ObjVal)\n"
   ]
  },
  {
   "cell_type": "code",
   "execution_count": 23,
   "metadata": {},
   "outputs": [
    {
     "name": "stdout",
     "output_type": "stream",
     "text": [
      "x : 25.0\n",
      "y : 4.0\n"
     ]
    }
   ],
   "source": [
    "for var in model.getVars(): \n",
    "    if(var.varName[0] == 'x' or var.varName[0] == 'y'):\n",
    "        print('{name} : {val}'.format(name=var.varName, val = var.x))"
   ]
  }
 ],
 "metadata": {
  "kernelspec": {
   "display_name": "Python 3",
   "language": "python",
   "name": "python3"
  },
  "language_info": {
   "codemirror_mode": {
    "name": "ipython",
    "version": 3
   },
   "file_extension": ".py",
   "mimetype": "text/x-python",
   "name": "python",
   "nbconvert_exporter": "python",
   "pygments_lexer": "ipython3",
   "version": "3.8.5"
  }
 },
 "nbformat": 4,
 "nbformat_minor": 4
}
