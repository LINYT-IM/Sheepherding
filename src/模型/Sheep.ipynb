{
 "cells": [
  {
   "cell_type": "code",
   "execution_count": 1,
   "metadata": {},
   "outputs": [],
   "source": [
    "from gurobipy import*\n",
    "import math"
   ]
  },
  {
   "cell_type": "code",
   "execution_count": 2,
   "metadata": {},
   "outputs": [
    {
     "data": {
      "text/plain": [
       "{('x', 0): 19.41, ('x', 1): 29.01, ('x', 2): 49.25}"
      ]
     },
     "execution_count": 2,
     "metadata": {},
     "output_type": "execute_result"
    }
   ],
   "source": [
    "p = {\n",
    "0:[20,1],\n",
    "1: [30,4],\n",
    "2: [50,10]}\n",
    "x = [1,5]\n",
    "dist = {}\n",
    "for key in p:\n",
    "    dist[\"x\",key] = math.floor(math.sqrt(pow(x[0] - p[key][0],2) + pow(x[1] - p[key][1],2))*100)/100\n",
    "\n",
    "# 最大初速\n",
    "V = 3\n",
    "dist"
   ]
  },
  {
   "cell_type": "code",
   "execution_count": 3,
   "metadata": {},
   "outputs": [
    {
     "name": "stdout",
     "output_type": "stream",
     "text": [
      "Academic license - for non-commercial use only - expires 2021-08-28\n",
      "Using license file C:\\Users\\linda\\gurobi.lic\n"
     ]
    }
   ],
   "source": [
    "model = Model(\"Sheep\")\n",
    "x = {}\n",
    "# cost variable\n",
    "c = {}\n",
    "m= {}\n",
    "t = 40\n",
    "M = 99999\n",
    "for i in p:\n",
    "    for j in range(t):\n",
    "        x[i, j] = model.addVar(vtype = GRB.BINARY, name = \"x{},{}\".format(i,j))\n",
    "        c[i,j] = model.addVar(vtype = GRB.INTEGER, name = \"c{},{}\".format(i,j))\n",
    "for i in range(t):\n",
    "    m[i] = model.addVar(vtype = GRB.BINARY, name = \"m{}\".format(i))\n",
    "# cost constraints\n",
    "for i in p:\n",
    "    for j in range(t):\n",
    "        model.addConstr(V*x[i,j]*m[j] <= c[i,j], name =  \"(1)\")\n",
    "        model.addConstr(M*(1-x[i,j]) + V*x[i,j]*m[j] >= c[i,j], name = \"(2)\")\n",
    "        for k in range(max(0, j-V+1), j):  \n",
    "            model.addConstr((V-(j-k))*x[i,k]*quicksum(x[k,j] for k in p) <= c[i,j], name = \"(1)\")\n",
    "            model.addConstr(quicksum(x[i,n] for n in range(k+1, j+1))*M + M*(1-x[i,k]) +  (V-(j-k)) *x[i,k]*m[j] >= c[i,j], name = \"(2)\")\n",
    "        model.addConstr(0 <= c[i,j], name = \"(3)\")\n",
    "        model.addConstr(quicksum(x[i,k] for k in range(max(0, j-V+1), j+1))*M >= c[i,j], name = \"(3)\" )\n",
    "#         model.addConstr(M*quicksum(x[k,j] for k in p) >= c[i,j], name = \"(test)\" )\n",
    "        \n",
    "\n",
    "# distance constraints\n",
    "for i in p:\n",
    "#     lhs = LinExpr(0)\n",
    "#     for j in range(t):\n",
    "#         lhs += x[i,j]*c[i,j]\n",
    "#         if(j >= 1):\n",
    "#             lhs += x[i,j-1]*c[i,j]\n",
    "#         if(j >= 2):\n",
    "#             lhs += x[i,j-2]*c[i,j]\n",
    "#     model.addConstr(lhs >= dist['x', i], name = \"(3)\")\n",
    "    model.addConstr(quicksum(c[i,j] for j in range(t)) >= dist['x', i], name = \"(4)\")\n",
    "    \n",
    "# 無人機至少停留在　a , b, c　其中一點（或沒有）\n",
    "for j in range(t):\n",
    "    model.addConstr(quicksum(x[i,j] for i in p) <= 1, name = \"(5)\")\n",
    "    model.addConstr(quicksum(x[i,j] for i in p) >= m[j], name = \"(7)\")\n",
    "# t-1 沒有停留時，ｔ也會＝０\n",
    "for j in range(1,t):\n",
    "    model.addConstr(quicksum(x[i,j] for i in p) <= quicksum(x[i,j-1] for i in p), name= \"(6)\")\n",
    "\n",
    "# non-negative\n",
    "for i in p:\n",
    "    for j in range(t):\n",
    "        model.addConstr(x[i,j] >= 0, name=\"(8)\")\n",
    "\n"
   ]
  },
  {
   "cell_type": "code",
   "execution_count": 4,
   "metadata": {},
   "outputs": [
    {
     "name": "stdout",
     "output_type": "stream",
     "text": [
      "Gurobi Optimizer version 9.1.1 build v9.1.1rc0 (win64)\n",
      "Thread count: 8 physical cores, 8 logical processors, using up to 8 threads\n",
      "Optimize a model with 482 rows, 280 columns and 1345 nonzeros\n",
      "Model fingerprint: 0x4d243ccc\n",
      "Model has 702 quadratic constraints\n",
      "Variable types: 0 continuous, 280 integer (160 binary)\n",
      "Coefficient statistics:\n",
      "  Matrix range     [1e+00, 1e+05]\n",
      "  QMatrix range    [1e+00, 3e+00]\n",
      "  QLMatrix range   [1e+00, 1e+05]\n",
      "  Objective range  [1e+00, 1e+00]\n",
      "  Bounds range     [1e+00, 1e+00]\n",
      "  RHS range        [1e+00, 5e+01]\n",
      "  QRHS range       [1e+05, 1e+05]\n",
      "Presolve removed 10 rows and 0 columns\n",
      "Presolve time: 0.05s\n",
      "Presolved: 1765 rows, 631 columns, 5655 nonzeros\n",
      "Variable types: 0 continuous, 631 integer (511 binary)\n",
      "\n",
      "Root relaxation: objective 5.882353e+00, 288 iterations, 0.01 seconds\n",
      "\n",
      "    Nodes    |    Current Node    |     Objective Bounds      |     Work\n",
      " Expl Unexpl |  Obj  Depth IntInf | Incumbent    BestBd   Gap | It/Node Time\n",
      "\n",
      "     0     0    5.88235    0   68          -    5.88235      -     -    0s\n",
      "H    0     0                      32.0000000    5.88235  81.6%     -    0s\n",
      "H    0     0                      26.0000000    8.04995  69.0%     -    0s\n",
      "     0     0    8.57113    0  136   26.00000    8.57113  67.0%     -    0s\n",
      "     0     0    8.96832    0  133   26.00000    8.96832  65.5%     -    0s\n",
      "     0     0    8.97114    0  130   26.00000    8.97114  65.5%     -    0s\n",
      "H    0     0                      25.0000000    8.97114  64.1%     -    0s\n",
      "     0     0   10.86829    0  301   25.00000   10.86829  56.5%     -    0s\n",
      "     0     0   10.94991    0  311   25.00000   10.94991  56.2%     -    0s\n",
      "     0     0   10.95801    0  311   25.00000   10.95801  56.2%     -    0s\n",
      "     0     0   11.90556    0  343   25.00000   11.90556  52.4%     -    0s\n",
      "     0     0   11.94921    0  367   25.00000   11.94921  52.2%     -    0s\n",
      "     0     0   12.78737    0  366   25.00000   12.78737  48.9%     -    0s\n",
      "     0     0   12.78737    0  357   25.00000   12.78737  48.9%     -    0s\n",
      "     0     2   12.82633    0  357   25.00000   12.82633  48.7%     -    0s\n",
      "H   34    31                      24.0000000   13.37614  44.3%  88.3    1s\n",
      "H   72    69                      23.0000000   13.37614  41.8%  70.5    1s\n",
      "H   82    81                      22.0000000   13.37614  39.2%  66.7    1s\n",
      "H   87    81                      21.0000000   13.37614  36.3%  65.2    1s\n",
      "H 1887   460                      20.0000000   17.28388  13.6%  32.0    2s\n",
      "  4992   487   19.00000   15   54   20.00000   19.00000  5.00%  45.9    5s\n",
      " 13606    57     cutoff   17        20.00000   19.00000  5.00%  55.7   10s\n",
      "\n",
      "Cutting planes:\n",
      "  Learned: 3\n",
      "  Gomory: 18\n",
      "  Implied bound: 13\n",
      "  Clique: 1\n",
      "  MIR: 25\n",
      "  Flow cover: 80\n",
      "  Zero half: 4\n",
      "  RLT: 4\n",
      "\n",
      "Explored 15386 nodes (858016 simplex iterations) in 11.85 seconds\n",
      "Thread count was 8 (of 8 available processors)\n",
      "\n",
      "Solution count 8: 20 21 22 ... 32\n",
      "\n",
      "Optimal solution found (tolerance 1.00e-04)\n",
      "Best objective 2.000000000000e+01, best bound 2.000000000000e+01, gap 0.0000%\n",
      "Optimize value =  20.0\n"
     ]
    }
   ],
   "source": [
    "# objective\n",
    "lhs = LinExpr(0)\n",
    "for i in p:\n",
    "#     for j in range(t):\n",
    "#         lhs += x[i,j]*c[i,j]\n",
    "#         if(j >= 1):\n",
    "#             lhs+= x[i,j-1]*c[i,j]\n",
    "#         if(j >= 2):\n",
    "#             lhs += x[i,j-2]*c[i,j]\n",
    "    lhs += quicksum(c[i,j] for j in range(t))\n",
    "# minimize time spend\n",
    "lhs_t = LinExpr(quicksum(x[i,j] for i in p for j in range(t)))\n",
    "model.setObjective(lhs_t,GRB.MINIMIZE)\n",
    "model.update()\n",
    "# model.display()\n",
    "model.optimize()\n",
    "print(\"Optimize value = \", model.ObjVal)\n"
   ]
  },
  {
   "cell_type": "code",
   "execution_count": 95,
   "metadata": {},
   "outputs": [],
   "source": [
    "# model.display()"
   ]
  },
  {
   "cell_type": "code",
   "execution_count": 5,
   "metadata": {},
   "outputs": [
    {
     "name": "stdout",
     "output_type": "stream",
     "text": [
      "x0,2 : 1.0\n",
      "x0,6 : 1.0\n",
      "x0,15 : 1.0\n",
      "x0,19 : 1.0\n",
      "x1,1 : 1.0\n",
      "x1,4 : 1.0\n",
      "x1,8 : 1.0\n",
      "x1,12 : 1.0\n",
      "x1,17 : 1.0\n",
      "x2,0 : 1.0\n",
      "x2,3 : 1.0\n",
      "x2,5 : 1.0\n",
      "x2,7 : 1.0\n",
      "x2,9 : 1.0\n",
      "x2,10 : 1.0\n",
      "x2,11 : 1.0\n",
      "x2,13 : 1.0\n",
      "x2,14 : 1.0\n",
      "x2,16 : 1.0\n",
      "x2,18 : 1.0\n"
     ]
    }
   ],
   "source": [
    "ans = {}\n",
    "for var in model.getVars(): \n",
    "    if(var.varName[0] == 'x' and var.x > 0.01):\n",
    "        print('{name} : {val}'.format(name=var.varName, val = var.x))\n",
    "        key = var.varName.split(',')\n",
    "        ans[key[1]] = key[0][1:]\n",
    "#     if(var.varName[0] == 'c' and var.x > 0):\n",
    "#         print('{name} : {val}'.format(name=var.varName, val = var.x))\n",
    "list = [None]*len(ans)\n",
    "for key in ans:\n",
    "    list[int(key)] = int(ans[key])+1"
   ]
  },
  {
   "cell_type": "code",
   "execution_count": 6,
   "metadata": {},
   "outputs": [],
   "source": [
    "def totalS(V):\n",
    "    total = 0\n",
    "    for i in range(1,V+1):\n",
    "        total+=i\n",
    "    return total\n",
    "def score(list,n,V,dis):\n",
    "    scores = 0\n",
    "    penalty = 0\n",
    "    flag = False\n",
    "    for j in range(1,n+1):\n",
    "#        move.clear();\n",
    "        curr_score = 0\n",
    "        for i in range(len(list)):\n",
    "            flag = False\n",
    "            if(list[i] == j):\n",
    "#                 // move.push_back(V);\n",
    "                curr_score += V\n",
    "            else:\n",
    "#                 // max{0, i-V+1} ... i - 1\n",
    "                index = 0\n",
    "                if(i - V + 1 > index):\n",
    "                    index = i - V + 1\n",
    "                k = i - 1\n",
    "                while(k >= index):\n",
    "                    if(list[k] == j):\n",
    "                        flag = True\n",
    "#                         // move.push_back((V-(i-k)))\n",
    "                        curr_score += V-(i-k)\n",
    "                        break\n",
    "                    k -= 1\n",
    "#         // 補償t = list.size() 後沒加上的距離\n",
    "#         i = len(list)-1\n",
    "# #         print(i)\n",
    "#         while( i >= len(list) - V):\n",
    "#             if(list[i] == j):\n",
    "#                 curr_score += totalS(V- (len(list) - i))\n",
    "#                 break\n",
    "#             i-=1\n",
    "        scores += curr_score\n",
    "        print(curr_score)\n",
    "        if(curr_score - dis[j-1] < 0):\n",
    "            penalty += curr_score - dis[j-1]\n",
    "        else:\n",
    "            penalty += 1\n",
    "        \n",
    "    if(penalty == 3):\n",
    "#         // 都有達到目標\n",
    "        penalty = 10\n",
    "    return scores, penalty"
   ]
  },
  {
   "cell_type": "code",
   "execution_count": 7,
   "metadata": {},
   "outputs": [
    {
     "name": "stdout",
     "output_type": "stream",
     "text": [
      "21\n",
      "30\n",
      "50\n",
      "[3, 2, 1, 3, 2, 3, 1, 3, 2, 3, 3, 3, 2, 3, 3, 1, 3, 2, 3, 1]\n",
      "101\n",
      "10\n"
     ]
    }
   ],
   "source": [
    "# list = [2,2,2,3,3,3,3,1,3,1,2]\n",
    "dis = [9.84, 14.03, 19.64]\n",
    "scores, penalty = score(list,len(p),V,dis)\n",
    "print(list)\n",
    "print(scores)\n",
    "print(penalty)\n",
    "# [2,2,3,1,3]"
   ]
  }
 ],
 "metadata": {
  "kernelspec": {
   "display_name": "Python 3",
   "language": "python",
   "name": "python3"
  },
  "language_info": {
   "codemirror_mode": {
    "name": "ipython",
    "version": 3
   },
   "file_extension": ".py",
   "mimetype": "text/x-python",
   "name": "python",
   "nbconvert_exporter": "python",
   "pygments_lexer": "ipython3",
   "version": "3.8.5"
  }
 },
 "nbformat": 4,
 "nbformat_minor": 4
}
